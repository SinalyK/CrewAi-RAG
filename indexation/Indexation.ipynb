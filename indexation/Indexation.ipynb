{
 "cells": [
  {
   "cell_type": "code",
   "execution_count": 25,
   "id": "25d4d6c8-31fc-4bce-8e5a-95fff4896ab7",
   "metadata": {},
   "outputs": [],
   "source": [
    "from sentence_transformers import SentenceTransformer\n",
    "from langchain.text_splitter import CharacterTextSplitter\n",
    "from langchain.document_loaders import PyPDFLoader\n",
    "from langchain.text_splitter import RecursiveCharacterTextSplitter\n",
    "from langchain.embeddings import HuggingFaceEmbeddings\n",
    "from langchain.vectorstores import Chroma\n",
    "import os\n",
    "import chromadb"
   ]
  },
  {
   "cell_type": "code",
   "execution_count": null,
   "id": "c33b101c-557d-4b02-aafd-8011e0ed0c50",
   "metadata": {},
   "outputs": [],
   "source": [
    "import sys\n",
    "!{sys.executable} -m pip install sentence-transformers"
   ]
  },
  {
   "cell_type": "code",
   "execution_count": 31,
   "id": "ec0994bd-9fc3-4ac7-a045-feb0eea8dfb1",
   "metadata": {},
   "outputs": [],
   "source": [
    "#docs: cours sur l'agent\n",
    "pdf_dir = \"Docs\"\n",
    "\n",
    "all_documents = []\n",
    "\n",
    "\n",
    "splitter = RecursiveCharacterTextSplitter(\n",
    "    chunk_size=500,\n",
    "    chunk_overlap=50,\n",
    "    separators=[\"\\n\\n\", \"\\n\", \" \", \"\"]\n",
    ")\n",
    "\n",
    "for filename in os.listdir(pdf_dir):\n",
    "    if filename.endswith(\".pdf\"):\n",
    "        path = os.path.join(pdf_dir, filename)\n",
    "        loader = PyPDFLoader(path)\n",
    "        pages = loader.load()\n",
    "\n",
    "        for page in pages:\n",
    "            page.metadata[\"source\"] = filename\n",
    "\n",
    "        chunks = splitter.split_documents(pages)\n",
    "        all_documents.extend(chunks)\n"
   ]
  },
  {
   "cell_type": "code",
   "execution_count": 9,
   "id": "6c929a96-9d14-4b3f-b901-8d14076ee790",
   "metadata": {},
   "outputs": [
    {
     "data": {
      "text/plain": [
       "Document(metadata={'source': 'Chapitre I.pdf', 'page': 2}, page_content='L’Intelligence Artificielle \\n« L’objectif de l’IA est de doter les systèmes informatiques/machines de capacités \\nintellectuelles comparables à celles des êtres humains »\\n• À l’époque, les ordinateurs n’avaient pas de capacités de calculs, il y avait pas de cloud\\ncomputing, pas de big data…\\n• Avant, l’IA était présente au niveau de la recherche scientifique seulement.\\n• Aujourd’hui, nous pouvons avoir des ordinateurs ultra rapide, calcul parallèle, grâce à')"
      ]
     },
     "execution_count": 9,
     "metadata": {},
     "output_type": "execute_result"
    }
   ],
   "source": [
    "all_documents"
   ]
  },
  {
   "cell_type": "code",
   "execution_count": 29,
   "id": "eae8ed90-c69f-4986-91da-9e418d1b9bd4",
   "metadata": {
    "scrolled": true
   },
   "outputs": [],
   "source": [
    "from langchain.embeddings import HuggingFaceEmbeddings\n",
    "\n",
    "embedding_fn = HuggingFaceEmbeddings(model_name=\"sentence-transformers/all-MiniLM-L6-v2\")"
   ]
  },
  {
   "cell_type": "code",
   "execution_count": 32,
   "id": "1eea6c9e-0cdd-4ea0-b2f6-8b306ddea50c",
   "metadata": {},
   "outputs": [
    {
     "name": "stderr",
     "output_type": "stream",
     "text": [
      "D:\\Users\\hp\\AppData\\Local\\Temp\\ipykernel_1636\\1547584207.py:7: LangChainDeprecationWarning: Since Chroma 0.4.x the manual persistence method is no longer supported as docs are automatically persisted.\n",
      "  vectorstore.persist()\n"
     ]
    }
   ],
   "source": [
    "\n",
    "vectorstore = Chroma(\n",
    "    persist_directory=\"./chromadb\",\n",
    "    embedding_function=embedding_fn\n",
    ")\n",
    "\n",
    "vectorstore.add_documents(all_documents)\n",
    "vectorstore.persist()\n"
   ]
  },
  {
   "cell_type": "code",
   "execution_count": 33,
   "id": "8cbc9bee-0b7b-45f4-be60-83ce6fa7d7bf",
   "metadata": {},
   "outputs": [],
   "source": [
    "retriever = vectorstore.as_retriever()\n",
    "\n",
    "def rag_query(query: str):\n",
    "    results = retriever.get_relevant_documents(query)\n",
    "    return \"\\n\\n\".join([\n",
    "        f\"Source: {doc.metadata.get('source', 'inconnu')}\\n{doc.page_content}\"\n",
    "        for doc in results\n",
    "    ])\n"
   ]
  },
  {
   "cell_type": "code",
   "execution_count": 44,
   "id": "b680781f-c3f6-4f68-8e7b-c596f3e20ae9",
   "metadata": {},
   "outputs": [
    {
     "data": {
      "text/plain": [
       "'Source: Chapitre V.pdf\\nL’architecture Interne du JADE Runtime\\n\\nSource: Chapitre V.pdf\\nAgent JADE\\n• Un agent JADE est une classe qui hérite de la classe Agent et qui redéfinie des méthodes\\nidentifiant le cycle de vie de l’agent sur la plateforme JADE.\\n• La méthode setup est la première méthode qui sera appelée après instanciation de l’agent\\npar le container.\\n• La méthode doDelete permet de demander au container de détruire l’agent.\\n• Avant que l’agent soit détruit, la méthode takedown est appelée.\\n• Un agent peut se déplacer d’un container à l’autre.\\n\\nSource: Chapitre I.pdf\\nces ressources, l’IA est devenu une réalité.\\n\\nSource: Chapitre V.pdf\\ndes agents.\\nChaque instance du JADE est appelée conteneur « Container: instance de JADE », et peut\\ncontenir/déployer plusieurs agents.\\nUn ensemble de conteneurs(peuvent être démarré dans plusieurs machine) constituent une\\nplateforme.'"
      ]
     },
     "execution_count": 44,
     "metadata": {},
     "output_type": "execute_result"
    }
   ],
   "source": [
    "rag_query(\"qu'est-ce que JADE\")"
   ]
  }
 ],
 "metadata": {
  "kernelspec": {
   "display_name": "Python 3 (ipykernel)",
   "language": "python",
   "name": "python3"
  },
  "language_info": {
   "codemirror_mode": {
    "name": "ipython",
    "version": 3
   },
   "file_extension": ".py",
   "mimetype": "text/x-python",
   "name": "python",
   "nbconvert_exporter": "python",
   "pygments_lexer": "ipython3",
   "version": "3.11.9"
  }
 },
 "nbformat": 4,
 "nbformat_minor": 5
}
